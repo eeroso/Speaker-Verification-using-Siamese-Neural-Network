{
  "nbformat": 4,
  "nbformat_minor": 0,
  "metadata": {
    "colab": {
      "name": "Speaker Verification with Siamese Neural Net.ipynb",
      "provenance": [],
      "collapsed_sections": [],
      "toc_visible": true,
      "include_colab_link": true
    },
    "kernelspec": {
      "display_name": "Python 3",
      "name": "python3"
    }
  },
  "cells": [
    {
      "cell_type": "markdown",
      "metadata": {
        "id": "view-in-github",
        "colab_type": "text"
      },
      "source": [
        "<a href=\"https://colab.research.google.com/github/eeroso/Speaker-Verification-using-Siamese-Neural-Network/blob/master/Speaker_Verification_with_Siamese_Neural_Net.ipynb\" target=\"_parent\"><img src=\"https://colab.research.google.com/assets/colab-badge.svg\" alt=\"Open In Colab\"/></a>"
      ]
    },
    {
      "cell_type": "markdown",
      "metadata": {
        "id": "0YSTWku1TQb5"
      },
      "source": [
        "# Project Report\n",
        "\n",
        "### Automatic Speaker Verification Using Siamese Neural Network (ASV)\n",
        "## **Authors: Eero Sormunen and Alvari Pietarinen**\n",
        "\n"
      ]
    },
    {
      "cell_type": "markdown",
      "metadata": {
        "id": "mASt-5gWVqh8"
      },
      "source": [
        "\n",
        "## Abstract\n",
        "\n",
        "> In this project we trained a siamese neural network to perform binary classification of two speech utterances to tell if those utterances are from the same speaker. Results were good, over 60% accuracy in all three different scenarios while we kept the training data low. We could get higher accuracies with bigger training dataset.\n"
      ]
    },
    {
      "cell_type": "markdown",
      "metadata": {
        "id": "SHd9NpI2Vr8k"
      },
      "source": [
        "## Introduction\n",
        "\n",
        "Describe the research question:\n",
        "\n",
        "* What is your hypothesis?\n",
        "\n",
        "  **Detectin if the two speech utterances are from same speaker by using siamese neural network.**\n",
        "\n",
        "* What are the main issues are you tackling? \n",
        "\n",
        "  **Data processing will be the main issue.**\n",
        "\n",
        "* Break down your approach into steps and describe them. \n",
        "\n",
        "  **1. Downloading dataset.**\n",
        "\n",
        "  **2. Splitting data in training and testing.**\n",
        "\n",
        "  **3. Splitting data to be accessable to all 3 scenarios.** \n",
        "\n",
        "  **4. Taking MFFC for waveforms and adding them to arrays as pairs, also adding corresponding labels whether they are the same speaker or not.** \n",
        "\n",
        "  **5. Building, training and testing a siamese neural network.**\n",
        "\n",
        "  **6. Plotting evaluation metrics**\n",
        "\n",
        "  **7. Making conclusions**\n",
        "\n",
        "\n",
        "\n",
        "* Brief description of which dataset you are using.\n",
        "  \n",
        " **AudioMNIST open dataset. There are 60 different speakers and each of them says the digits 0-9 fifty times.**\n",
        "\n",
        "\n",
        "\n",
        "\n",
        "* How many different ways (approaches) you know that could be used to resolve the hypothesis? \n",
        "\n",
        "  **We only know i-vector initially**\n",
        "\n",
        "* Why did you choose your specific approach?\n",
        "  **It was given in the instructions and deep learning is an interesting hot topic these days, so gaining experience in that field is good.**\n",
        "\n",
        "* What are the other methods' merits or drawbacks, and what are the advantages of your method?\n",
        "\n",
        "  **Siamese neural-network is good when comparing two different occerences of, for example, audio, because input takes two different inputs, not one. Also siamese neural network doesn't require huge amounts of training data. Siamese network can be slower than regular ANNs because of those pairic inputs.**\n",
        "\n",
        "* What are the goal you achieved in this project?\n",
        "\n",
        "  **Goal was to get rigour predictions for two speech utterances being from the same speaker. That goal was somewhat achieved.**"
      ]
    },
    {
      "cell_type": "markdown",
      "metadata": {
        "id": "dytdamf6zrwo"
      },
      "source": [
        "# Tasks\r\n",
        "\r\n",
        "## 1. Text Dependent SV\r\n",
        "## 2. Text Limited SV\r\n",
        "## 3. Text Independent SV\r\n"
      ]
    },
    {
      "cell_type": "markdown",
      "metadata": {
        "id": "ZqxPRJFvV_6I"
      },
      "source": [
        "## Used libraries\n",
        "\n",
        "\n",
        "* _numpy_: for matrix multiplication and array processing\n",
        "* _matplotlib_: for visualization\n",
        "* _pyplot_: aswell for visualization\n",
        "* _sklearn_: for machine learning\n",
        "* _zipfile_: for extracting dataset\n",
        "* _os_: for data processing\n",
        "* _tensorflow_: building neural network\n",
        "* _random_: to get pseudorandomness in some parts of code\n",
        "* _sklearn.utils.shuffle_: to shuffle training data\n",
        "* _librosa_: to process waveforms, get mfcc\n",
        "* _keras_: for building Siamese ANN, training, evaluating\n",
        "\n"
      ]
    },
    {
      "cell_type": "code",
      "metadata": {
        "colab": {
          "base_uri": "https://localhost:8080/",
          "height": 324
        },
        "id": "C-PavhBXT4fl",
        "outputId": "c62c1cd9-1d3e-4fc5-b8fe-0e7388ff6acd"
      },
      "source": [
        "!pip uninstall scikit-learn\r\n",
        "!pip install --pre --extra-index https://pypi.anaconda.org/scipy-wheels-nightly/simple scikit-learn\r\n",
        "\r\n",
        "'''Run this first, then restart runtime environment and then run all blocks under'''"
      ],
      "execution_count": 1,
      "outputs": [
        {
          "output_type": "stream",
          "text": [
            "Uninstalling scikit-learn-0.22.2.post1:\n",
            "  Would remove:\n",
            "    /usr/local/lib/python3.6/dist-packages/scikit_learn-0.22.2.post1.dist-info/*\n",
            "    /usr/local/lib/python3.6/dist-packages/sklearn/*\n",
            "Proceed (y/n)? y\n",
            "  Successfully uninstalled scikit-learn-0.22.2.post1\n",
            "Looking in indexes: https://pypi.org/simple, https://pypi.anaconda.org/scipy-wheels-nightly/simple\n",
            "Collecting scikit-learn\n",
            "\u001b[?25l  Downloading https://files.pythonhosted.org/packages/f3/a5/4743a303debe2f57cd10a9f9ec0a7cc6c265b96f12cfb3310d522e459ded/scikit_learn-0.24.0rc1-cp36-cp36m-manylinux2010_x86_64.whl (22.2MB)\n",
            "\u001b[K     |████████████████████████████████| 22.2MB 48.8MB/s \n",
            "\u001b[?25hRequirement already satisfied: scipy>=0.19.1 in /usr/local/lib/python3.6/dist-packages (from scikit-learn) (1.4.1)\n",
            "Collecting threadpoolctl>=2.0.0\n",
            "  Downloading https://files.pythonhosted.org/packages/f7/12/ec3f2e203afa394a149911729357aa48affc59c20e2c1c8297a60f33f133/threadpoolctl-2.1.0-py3-none-any.whl\n",
            "Requirement already satisfied: numpy>=1.13.3 in /usr/local/lib/python3.6/dist-packages (from scikit-learn) (1.18.5)\n",
            "Requirement already satisfied: joblib>=0.11 in /usr/local/lib/python3.6/dist-packages (from scikit-learn) (0.17.0)\n",
            "Installing collected packages: threadpoolctl, scikit-learn\n",
            "Successfully installed scikit-learn-0.24.0rc1 threadpoolctl-2.1.0\n"
          ],
          "name": "stdout"
        },
        {
          "output_type": "execute_result",
          "data": {
            "application/vnd.google.colaboratory.intrinsic+json": {
              "type": "string"
            },
            "text/plain": [
              "'Run this first, then restart runtime environment and then run all blocks under'"
            ]
          },
          "metadata": {
            "tags": []
          },
          "execution_count": 1
        }
      ]
    },
    {
      "cell_type": "code",
      "metadata": {
        "colab": {
          "base_uri": "https://localhost:8080/"
        },
        "id": "BxzOK57oPity",
        "outputId": "ecdb3f35-b7d4-497b-ed60-9619e66aea90"
      },
      "source": [
        "import numpy as np\n",
        "import matplotlib as mpl\n",
        "from matplotlib import pyplot as plt\n",
        "from zipfile import ZipFile \n",
        "import os\n",
        "import tensorflow as tf\n",
        "import random\n",
        "from sklearn.utils import shuffle\n",
        "import librosa \n",
        "from keras.models import Model, Sequential\n",
        "from keras import layers, callbacks, optimizers\n",
        "import keras.backend as K\n",
        "import sklearn\n",
        "sklearn.show_versions()"
      ],
      "execution_count": 2,
      "outputs": [
        {
          "output_type": "stream",
          "text": [
            "\n",
            "System:\n",
            "    python: 3.6.9 (default, Oct  8 2020, 12:12:24)  [GCC 8.4.0]\n",
            "executable: /usr/bin/python3\n",
            "   machine: Linux-4.19.112+-x86_64-with-Ubuntu-18.04-bionic\n",
            "\n",
            "Python dependencies:\n",
            "          pip: 19.3.1\n",
            "   setuptools: 50.3.2\n",
            "      sklearn: 0.24.0rc1\n",
            "        numpy: 1.18.5\n",
            "        scipy: 1.4.1\n",
            "       Cython: 0.29.21\n",
            "       pandas: 1.1.5\n",
            "   matplotlib: 3.2.2\n",
            "       joblib: 0.17.0\n",
            "threadpoolctl: 2.1.0\n",
            "\n",
            "Built with OpenMP: True\n"
          ],
          "name": "stdout"
        }
      ]
    },
    {
      "cell_type": "markdown",
      "metadata": {
        "id": "jZq2b3DOWHxk"
      },
      "source": [
        "## Dataset\n",
        "\n",
        "Here we download and extract the dataset which is used for training and testing our Siamese neural network. Dataset is large containing many kind of speech utterances. We also put all speaker folders to spesific list."
      ]
    },
    {
      "cell_type": "code",
      "metadata": {
        "colab": {
          "base_uri": "https://localhost:8080/"
        },
        "id": "MekFJBeBt-dZ",
        "outputId": "4e46c219-2484-441a-d773-4254eebfcf33"
      },
      "source": [
        "!wget \"https://github.com/soerenab/AudioMNIST/archive/master.zip\"\n",
        "filename='master.zip'\n",
        "with ZipFile(filename, mode='r') as f:\n",
        "  f.extractall(path='/tmp')\n",
        "\n",
        "path='/tmp/AudioMNIST-master/data'\n",
        "os.chdir(path)\n",
        "\n",
        "speaker_folders = []\n",
        "for folder in os.listdir(path):\n",
        "  if os.path.isdir(folder):\n",
        "    speaker_folders.append(path + '/' + folder + '/')\n",
        "\n"
      ],
      "execution_count": 3,
      "outputs": [
        {
          "output_type": "stream",
          "text": [
            "--2020-12-11 06:22:32--  https://github.com/soerenab/AudioMNIST/archive/master.zip\n",
            "Resolving github.com (github.com)... 192.30.255.113\n",
            "Connecting to github.com (github.com)|192.30.255.113|:443... connected.\n",
            "HTTP request sent, awaiting response... 302 Found\n",
            "Location: https://codeload.github.com/soerenab/AudioMNIST/zip/master [following]\n",
            "--2020-12-11 06:22:32--  https://codeload.github.com/soerenab/AudioMNIST/zip/master\n",
            "Resolving codeload.github.com (codeload.github.com)... 192.30.255.120\n",
            "Connecting to codeload.github.com (codeload.github.com)|192.30.255.120|:443... connected.\n",
            "HTTP request sent, awaiting response... 200 OK\n",
            "Length: unspecified [application/zip]\n",
            "Saving to: ‘master.zip’\n",
            "\n",
            "master.zip              [                 <=>] 948.50M  9.03MB/s    in 1m 46s  \n",
            "\n",
            "2020-12-11 06:24:19 (8.93 MB/s) - ‘master.zip’ saved [994575418]\n",
            "\n"
          ],
          "name": "stdout"
        }
      ]
    },
    {
      "cell_type": "markdown",
      "metadata": {
        "id": "3cu4XVkAtjpK"
      },
      "source": [
        "### Split data initially\n",
        "This function splits data to training and testing data keeping speaker disjoint in mind. Training data contains 48 speakers and testing contains 12. All utterances are aswell split to a dictionary with \"Train\" or \"Test\" and chosen digit as their key. -> all_digits[\"train5\"] contains all speech utterances of digit 5 by train speakers. "
      ]
    },
    {
      "cell_type": "code",
      "metadata": {
        "id": "4rQeTYi9Wf2t"
      },
      "source": [
        "def initial_datasplit():\n",
        "  all_digits={} #Dictionary with digits and their corresponding waveforms\n",
        "  digits_train=[] #lists to help \"appending\" to dict\n",
        "  digits_test=[]\n",
        "  for i in range(0,10): #all digits 0-9\n",
        "    for speaker in speaker_folders:\n",
        "      if float(speaker.split(\"/\")[4]) < 49: #if speaker id 48 or under, goes to train\n",
        "        for wav in os.listdir(speaker):\n",
        "          if wav.startswith(\"{}\".format(i)):\n",
        "            digits_train.append('/tmp/AudioMNIST-master/data/' + wav.split(\"_\")[1] + '/' +  wav)\n",
        "      if float(speaker.split(\"/\")[4]) > 48:\n",
        "        for wav in os.listdir(speaker):\n",
        "          if wav.startswith(\"{}\".format(i)):\n",
        "            digits_test.append('/tmp/AudioMNIST-master/data/' + wav.split(\"_\")[1] + '/' +  wav)\n",
        "    all_digits[\"train{}\".format(i)] = digits_train #i means the current digit from the topmost for loop\n",
        "    digits_train=[]       \n",
        "    all_digits[\"test{}\".format(i)] = digits_test\n",
        "    digits_test=[]\n",
        "\n",
        "  return all_digits\n",
        "\n"
      ],
      "execution_count": 4,
      "outputs": []
    },
    {
      "cell_type": "markdown",
      "metadata": {
        "id": "55H259KFvr3u"
      },
      "source": [
        "### MFCC\n",
        "Taking MFCC of given wav and resampling it to 8000hz."
      ]
    },
    {
      "cell_type": "code",
      "metadata": {
        "id": "1denGomdMXY1"
      },
      "source": [
        "def mfcc(file_path:str, sampling_rate=8000):\n",
        "  y,sr = librosa.load(file_path, sr = sampling_rate)\n",
        "\n",
        "  mfccs = librosa.feature.mfcc(y = y, sr = sr)\n",
        "\n",
        "  return mfccs\n",
        "\n"
      ],
      "execution_count": 5,
      "outputs": []
    },
    {
      "cell_type": "markdown",
      "metadata": {
        "id": "j0dUwoO6vQIq"
      },
      "source": [
        "### Zero padding, shuffling, validation data splitting and array returning function\n",
        "After storing MFCCs of all scenarios, we zeropad the shorter MFCCs to same length with the longest one, because you cant feed ANN with varying shapes. This functions also splits the validation set out of training sets, shuffles all datasets and returns the data as np.arrays, which is required for ANNs aswell."
      ]
    },
    {
      "cell_type": "code",
      "metadata": {
        "id": "FWRnM7wGDhn_"
      },
      "source": [
        "def Zeropad_nparray(X_train_1_t1, X_train_2_t1, y_train_t1, X_test_1_t1, X_test_2_t1, y_test_t1, X_train_1_t2, X_train_2_t2, y_train_t2, X_test_1_t2, X_test_2_t2, y_test_t2, X_train_1_t3, X_train_2_t3,y_train_t3, X_test_1_t3, X_test_2_t3, y_test_t3):\n",
        "  all=[X_train_1_t1, X_train_2_t1, X_test_1_t1, X_test_2_t1, X_train_1_t2, X_train_2_t2, X_test_1_t2, X_test_2_t2, X_train_1_t3, X_train_2_t3, X_test_1_t3, X_test_2_t3]\n",
        "\n",
        "  temp = 0\n",
        "  for array in all:\n",
        "    for item in array:\n",
        "      if item.shape[1] > temp:\n",
        "        temp = item.shape[1]\n",
        "        \n",
        "\n",
        "\n",
        "  desired_rows = 20\n",
        "  desired_cols = temp\n",
        "  \n",
        "  for array in all:\n",
        "    idx=0\n",
        "    for mfcc in array:\n",
        "      if mfcc.shape[1] < temp:     \n",
        "        array[idx] = np.pad(mfcc, ((0, desired_rows-mfcc.shape[0]), (0, desired_cols-mfcc.shape[1])), 'constant', constant_values=0)\n",
        "      idx = idx+1\n",
        "\n",
        "  X_train_1_t1, X_train_2_t1, y_train_t1 = shuffle(X_train_1_t1, X_train_2_t1, y_train_t1)\n",
        "\n",
        "  X_test_1_t1, X_test_2_t1, y_test_t1 = shuffle(X_test_1_t1, X_test_2_t1, y_test_t1)\n",
        "\n",
        "  X_train_1_t2, X_train_2_t2, y_train_t2 = shuffle(X_train_1_t2, X_train_2_t2, y_train_t2)\n",
        "\n",
        "  X_test_1_t2, X_test_2_t2, y_test_t2 = shuffle(X_test_1_t2, X_test_2_t2, y_test_t2)\n",
        "\n",
        "  X_train_1_t3, X_train_2_t3,y_train_t3 = shuffle(X_train_1_t3, X_train_2_t3,y_train_t3)\n",
        "\n",
        "  X_test_1_t3, X_test_2_t3, y_test_t3 = shuffle(X_test_1_t3, X_test_2_t3, y_test_t3)\n",
        "\n",
        "  X_val_1_t1, X_val_2_t1, y_val_t1 = X_train_1_t1[1800:], X_train_2_t1[1800:], y_train_t1[1800:]\n",
        "  X_train_1_t1, X_train_2_t1, y_train_t1 = X_train_1_t1[:1800], X_train_2_t1[:1800], y_train_t1[:1800]\n",
        "  \n",
        "  X_val_1_t2, X_val_2_t2, y_val_t2 = X_train_1_t2[2800:], X_train_2_t2[2800:], y_train_t2[2800:]\n",
        "  X_train_1_t2, X_train_2_t2, y_train_t2 = X_train_1_t2[:2800], X_train_2_t2[:2800], y_train_t2[:2800]\n",
        "  X_val_1_t3, X_val_2_t3, y_val_t3 = X_train_1_t3[2300:], X_train_2_t3[2300:], y_train_t3[2300:]\n",
        "  X_train_1_t3, X_train_2_t3, y_train_t3 = X_train_1_t3[:2300], X_train_2_t3[:2300], y_train_t3[:2300]\n",
        "  \n",
        "\n",
        "\n",
        "  return np.asarray(X_train_1_t1), np.asarray(X_train_2_t1), np.asarray(y_train_t1), np.asarray(X_test_1_t1), np.asarray(X_test_2_t1), np.asarray(y_test_t1), np.asarray(X_val_1_t1), np.asarray(X_val_2_t1), np.asarray(y_val_t1), np.asarray(X_train_1_t2), np.asarray(X_train_2_t2), np.asarray(y_train_t2), np.asarray(X_test_1_t2), np.asarray(X_test_2_t2), np.asarray(y_test_t2), np.asarray(X_val_1_t2), np.asarray(X_val_2_t2), np.asarray(y_val_t2), np.asarray(X_train_1_t3), np.asarray(X_train_2_t3), np.asarray(y_train_t3), np.asarray(X_test_1_t3), np.asarray(X_test_2_t3), np.asarray(y_test_t3), np.asarray(X_val_1_t3), np.asarray(X_val_2_t3), np.asarray(y_val_t3)\n",
        "  "
      ],
      "execution_count": 6,
      "outputs": []
    },
    {
      "cell_type": "markdown",
      "metadata": {
        "id": "3F9NdpKguTia"
      },
      "source": [
        "### Get Data for Scenario 1 (Text dependent)\n",
        "This function process the data for scenario number 1. For this purpose we only do the digit 0. It could be any digit. We make sure training data contains at 300 utterances of label 1 (same speaker) and 300 of label 0 (different speakers).\n",
        "Test set contains 50 of both."
      ]
    },
    {
      "cell_type": "code",
      "metadata": {
        "id": "CB2PzEv61Zf0"
      },
      "source": [
        "#For Text Dependent training\n",
        "def Get_Task1_Train_and_Test(all_digits):\n",
        "  \n",
        "\n",
        "  Speaker01 = [] \n",
        "  Speaker02 = []\n",
        "  Labels0 = []\n",
        "  length = len(all_digits[\"train0\"])-1\n",
        "  tmp = []\n",
        "\n",
        "  while(len(Labels0) < 2000): \n",
        "    if Labels0.count(0) == 1000 and Labels0.count(1) == 1000: \n",
        "      break\n",
        "    else:\n",
        "      wav1 = all_digits[\"train0\"][random.randint(0, length)]\n",
        "      wav2 = all_digits[\"train0\"][random.randint(0, length)]\n",
        "      if [wav1, wav2] not in tmp: \n",
        "        if wav1.split(\"_\")[1] == wav2.split(\"_\")[1] and Labels0.count(1) < 1000:\n",
        "          tmp.append([wav1, wav2])\n",
        "          mfcc1 = mfcc(wav1)\n",
        "          mfcc2 = mfcc(wav2)\n",
        "          Speaker01.append(mfcc1)\n",
        "          Speaker02.append(mfcc2)\n",
        "          Labels0.append(1)\n",
        "        if wav1.split(\"_\")[1] != wav2.split(\"_\")[1] and Labels0.count(0) < 1000: \n",
        "          tmp.append([wav1, wav2])\n",
        "          mfcc1 = mfcc(wav1)\n",
        "          mfcc2 = mfcc(wav2)\n",
        "          Speaker01.append(mfcc1)\n",
        "          Speaker02.append(mfcc2)\n",
        "          Labels0.append(0)\n",
        "\n",
        "\n",
        "\n",
        "\n",
        "  Speaker01_test = [] \n",
        "  Speaker02_test = []\n",
        "  Labels0_test = []\n",
        "  length = len(all_digits[\"test0\"])-1\n",
        "  tmp = []\n",
        "\n",
        "  while(len(Labels0_test) < 250): \n",
        "    if Labels0_test.count(0) == 125 and Labels0_test.count(1) == 125: \n",
        "      break\n",
        "    else:\n",
        "      wav1 = all_digits[\"test0\"][random.randint(0, length)] \n",
        "      wav2 = all_digits[\"test0\"][random.randint(0, length)]\n",
        "      if [wav1, wav2] not in tmp: \n",
        "        if wav1.split(\"_\")[1] == wav2.split(\"_\")[1] and Labels0_test.count(1) < 125: \n",
        "          tmp.append([wav1, wav2])\n",
        "          mfcc1 = mfcc(wav1)\n",
        "          mfcc2 = mfcc(wav2)\n",
        "          Speaker01_test.append(mfcc1)\n",
        "          Speaker02_test.append(mfcc2)\n",
        "          Labels0_test.append(1)\n",
        "        if wav1.split(\"_\")[1] != wav2.split(\"_\")[1] and Labels0_test.count(0) < 125: \n",
        "          tmp.append([wav1, wav2])\n",
        "          mfcc1 = mfcc(wav1)\n",
        "          mfcc2 = mfcc(wav2)\n",
        "          Speaker01_test.append(mfcc1)\n",
        "          Speaker02_test.append(mfcc2)\n",
        "          Labels0_test.append(0)\n",
        "\n",
        "\n",
        "\n",
        "  return Speaker01, Speaker02, Labels0, Speaker01_test, Speaker02_test, Labels0_test\n"
      ],
      "execution_count": 7,
      "outputs": []
    },
    {
      "cell_type": "markdown",
      "metadata": {
        "id": "nkZg_QGJv6VJ"
      },
      "source": [
        "### GET Data for Scenario 2 (Text \"limited\")\n",
        "Data processing for scenario 2. In testing every number (0-9) has 100 utterances. 25 of  them are from same speaker (label 1) and rest are from different speaker (label 0). In test set there are 10 utterances from same speaker (label 1) and 10 from different speaker (label 0)."
      ]
    },
    {
      "cell_type": "code",
      "metadata": {
        "id": "tVOgDNzJbhhT"
      },
      "source": [
        "######## TASK 2 ###########\n",
        "\n",
        "'''Train set:\n",
        "digits 0-9\n",
        "Every number occurences 100\n",
        "of which same speaker 25\n",
        "'''\n",
        "def Get_Task2_Train_and_Test(all_digits):\n",
        "  Speaker09 = [] \n",
        "  Speaker09_2 = []\n",
        "  Labels09 = []\n",
        "  length = len(all_digits[\"test0\"])-1\n",
        "  tmp = []\n",
        "  for dgt in range(0,10):\n",
        "    counter = 0\n",
        "    counter1 = 0\n",
        "    tmp = []\n",
        "    tmp2 = []\n",
        "    tmp_dgt = []\n",
        "    while(counter1<150):\n",
        "      wav1 = all_digits[\"train{}\".format(dgt)][random.randint(0, length)]\n",
        "      wav2 = all_digits[\"train{}\".format(random.randint(0,9))][random.randint(0, length)]\n",
        "      if [wav1, wav2] not in tmp2:\n",
        "        if wav1.split(\"_\")[1] == wav2.split(\"_\")[1] and tmp_dgt.count(1) < 150:\n",
        "          tmp2.append([wav1, wav2])\n",
        "          mfcc1 = mfcc(wav1)\n",
        "          mfcc2 = mfcc(wav2)\n",
        "          Speaker09.append(mfcc1)\n",
        "          Speaker09_2.append(mfcc2)\n",
        "          Labels09.append(1)\n",
        "          tmp_dgt.append(1)\n",
        "          counter1 = counter1 + 1\n",
        "    tmp_dgt=[]\n",
        "    while(counter < 150):\n",
        "        wav1 = all_digits[\"train{}\".format(dgt)][random.randint(0, length)] \n",
        "        wav2 = all_digits[\"train{}\".format(random.randint(0,9))][random.randint(0, length)]\n",
        "        if [wav1, wav2] not in tmp:\n",
        "          if wav1.split(\"_\")[1] != wav2.split(\"_\")[1] and tmp_dgt.count(0) < 150:\n",
        "            tmp.append([wav1, wav2])\n",
        "            mfcc1 = mfcc(wav1)\n",
        "            mfcc2 = mfcc(wav2)\n",
        "            Speaker09.append(mfcc1)\n",
        "            Speaker09_2.append(mfcc2)\n",
        "            tmp_dgt.append(0)\n",
        "            Labels09.append(0)\n",
        "            counter = counter + 1\n",
        "\n",
        "\n",
        "\n",
        "  Speaker09_test = [] \n",
        "  Speaker09_2_test = []\n",
        "  Labels09_test = []\n",
        "  length = len(all_digits[\"test0\"])-1\n",
        "  tmp = []\n",
        "  for dgt in range(0,10):\n",
        "    counter = 0\n",
        "    counter1 = 0\n",
        "    tmp = []\n",
        "    tmp2 = []\n",
        "    tmp_dgt = []\n",
        "    while(counter1<10):\n",
        "      wav1 = all_digits[\"test{}\".format(dgt)][random.randint(0, length)]\n",
        "      wav2 = all_digits[\"test{}\".format(random.randint(0,9))][random.randint(0, length)]\n",
        "      if [wav1, wav2] not in tmp2:\n",
        "        if wav1.split(\"_\")[1] == wav2.split(\"_\")[1] and tmp_dgt.count(1) < 10:\n",
        "          tmp2.append([wav1, wav2])\n",
        "          mfcc1 = mfcc(wav1)\n",
        "          mfcc2 = mfcc(wav2)\n",
        "          Speaker09_test.append(mfcc1)\n",
        "          Speaker09_2_test.append(mfcc2)\n",
        "          Labels09_test.append(1)\n",
        "          tmp_dgt.append(1)\n",
        "          counter1 = counter1 + 1\n",
        "    tmp_dgt=[]\n",
        "    while(counter < 10):\n",
        "        wav1 = all_digits[\"test{}\".format(dgt)][random.randint(0, length)] \n",
        "        wav2 = all_digits[\"test{}\".format(random.randint(0,9))][random.randint(0, length)]\n",
        "        if [wav1, wav2] not in tmp: \n",
        "          if wav1.split(\"_\")[1] != wav2.split(\"_\")[1] and tmp_dgt.count(0) < 10:\n",
        "            tmp.append([wav1, wav2])\n",
        "            mfcc1 = mfcc(wav1)\n",
        "            mfcc2 = mfcc(wav2)\n",
        "            Speaker09_test.append(mfcc1)\n",
        "            Speaker09_2_test.append(mfcc2)\n",
        "            tmp_dgt.append(0)\n",
        "            Labels09_test.append(0)\n",
        "            counter = counter + 1\n",
        "\n",
        "\n",
        "  return  Speaker09, Speaker09_2, Labels09, Speaker09_test, Speaker09_2_test, Labels09_test\n",
        "\n"
      ],
      "execution_count": 8,
      "outputs": []
    },
    {
      "cell_type": "markdown",
      "metadata": {
        "id": "kh69m2dZ4Bx6"
      },
      "source": [
        "### GET Data for Scenario 3 (Text independent)\n",
        "Data processing for scenario 3. In training numbers from 0 to 4. Each number has 200 utterances where 150 are from different speaker (label 0) and 50 from same speaker (label1). In testing numbers from 5 to 9. Same split as in training.\n"
      ]
    },
    {
      "cell_type": "code",
      "metadata": {
        "id": "go7N3V_4u9eN"
      },
      "source": [
        "### TASK 3, TEXT INDEPENDENT ###\n",
        "########TRAIN DATA##################\n",
        "def Get_Task3_Train_and_Test(all_digits):\n",
        "  Speaker_04_1 = [] \n",
        "  Speaker_04_2 = []\n",
        "  Labels04 = []\n",
        "  length = len(all_digits[\"train0\"])-1\n",
        "\n",
        "\n",
        "  for dgt in range(0,5):\n",
        "    counter = 0\n",
        "    counter1 = 0\n",
        "    tmp = []\n",
        "    tmp2 = []\n",
        "    tmp_dgt = []\n",
        "    while(counter1<250):\n",
        "      wav1 = all_digits[\"train{}\".format(dgt)][random.randint(0, length)]\n",
        "      wav2 = all_digits[\"train{}\".format(dgt)][random.randint(0, length)]\n",
        "      if [wav1, wav2] not in tmp2:\n",
        "        if wav1.split(\"_\")[1] == wav2.split(\"_\")[1] and tmp_dgt.count(1) < 125:\n",
        "          tmp2.append([wav1, wav2])\n",
        "          mfcc1 = mfcc(wav1)\n",
        "          mfcc2 = mfcc(wav2)\n",
        "          Speaker_04_1.append(mfcc1)\n",
        "          Speaker_04_2.append(mfcc2)\n",
        "          Labels04.append(1)\n",
        "          tmp_dgt.append(1)\n",
        "          counter1 = counter1 + 1\n",
        "        if wav1.split(\"_\")[1] != wav2.split(\"_\")[1] and tmp_dgt.count(0) < 125:\n",
        "          tmp2.append([wav1, wav2])\n",
        "          mfcc1 = mfcc(wav1)\n",
        "          mfcc2 = mfcc(wav2)\n",
        "          Speaker_04_1.append(mfcc1)\n",
        "          Speaker_04_2.append(mfcc2)\n",
        "          tmp_dgt.append(0)\n",
        "          Labels04.append(0)\n",
        "          counter1 = counter1 + 1\n",
        "    tmp_dgt=[]\n",
        "    while(counter < 250):\n",
        "        wav1 = all_digits[\"train{}\".format(dgt)][random.randint(0, length)] \n",
        "        wav2 = all_digits[\"train{}\".format(random.choice([i for i in range(0,5) if i not in [dgt]]))][random.randint(0, length)]\n",
        "        if [wav1, wav2] not in tmp:\n",
        "          if wav1.split(\"_\")[1] == wav2.split(\"_\")[1] and tmp_dgt.count(1) < 125:\n",
        "            tmp.append([wav1, wav2])\n",
        "            mfcc1 = mfcc(wav1)\n",
        "            mfcc2 = mfcc(wav2)\n",
        "            Speaker_04_1.append(mfcc1)\n",
        "            Speaker_04_2.append(mfcc2)\n",
        "            Labels04.append(1)\n",
        "            tmp_dgt.append(1)\n",
        "            counter = counter + 1\n",
        "          if wav1.split(\"_\")[1] != wav2.split(\"_\")[1] and tmp_dgt.count(0) < 125:\n",
        "            tmp.append([wav1, wav2])\n",
        "            mfcc1 = mfcc(wav1)\n",
        "            mfcc2 = mfcc(wav2)\n",
        "            Speaker_04_1.append(mfcc1)\n",
        "            Speaker_04_2.append(mfcc2)\n",
        "            tmp_dgt.append(0)\n",
        "            Labels04.append(0)\n",
        "            counter = counter + 1\n",
        "  ##########TRAIN DATA ENDS##############\n",
        "\n",
        "\n",
        "  ##########TEST DATA#################\n",
        "  Speaker_59_1 = [] \n",
        "  Speaker_59_2 = []\n",
        "  Labels59 = []\n",
        "  length = len(all_digits[\"test5\"])-1\n",
        "\n",
        "\n",
        "\n",
        "\n",
        "  for dgt in range(5,10):\n",
        "    counter = 0\n",
        "    counter1 = 0\n",
        "    tmp = []\n",
        "    tmp2 = []\n",
        "    tmp_dgt = []\n",
        "    while(counter1<50):\n",
        "      wav1 = all_digits[\"test{}\".format(dgt)][random.randint(0, length)]\n",
        "      wav2 = all_digits[\"test{}\".format(dgt)][random.randint(0, length)]\n",
        "      if [wav1, wav2] not in tmp2:\n",
        "        if wav1.split(\"_\")[1] == wav2.split(\"_\")[1] and tmp_dgt.count(1) < 25:\n",
        "          tmp2.append([wav1, wav2])\n",
        "          mfcc1 = mfcc(wav1)\n",
        "          mfcc2 = mfcc(wav2)\n",
        "          Speaker_59_1.append(mfcc1)\n",
        "          Speaker_59_2.append(mfcc2)\n",
        "          Labels59.append(1)\n",
        "          tmp_dgt.append(1)\n",
        "          counter1 = counter1 + 1\n",
        "        if wav1.split(\"_\")[1] != wav2.split(\"_\")[1] and tmp_dgt.count(0) < 25:\n",
        "          tmp2.append([wav1, wav2])\n",
        "          mfcc1 = mfcc(wav1)\n",
        "          mfcc2 = mfcc(wav2)\n",
        "          Speaker_59_1.append(mfcc1)\n",
        "          Speaker_59_2.append(mfcc2)\n",
        "          tmp_dgt.append(0)\n",
        "          Labels59.append(0)\n",
        "          counter1 = counter1 + 1\n",
        "    tmp_dgt=[]\n",
        "    while(counter < 50):\n",
        "        wav1 = all_digits[\"test{}\".format(dgt)][random.randint(0, length)] \n",
        "        wav2 = all_digits[\"test{}\".format(random.choice([i for i in range(5,10) if i not in [dgt]]))][random.randint(0, length)]\n",
        "        if [wav1, wav2] not in tmp: \n",
        "          if wav1.split(\"_\")[1] == wav2.split(\"_\")[1] and tmp_dgt.count(1) < 25: \n",
        "            tmp.append([wav1, wav2])\n",
        "            mfcc1 = mfcc(wav1)\n",
        "            mfcc2 = mfcc(wav2)\n",
        "            Speaker_59_1.append(mfcc1)\n",
        "            Speaker_59_2.append(mfcc2)\n",
        "            Labels59.append(1)\n",
        "            tmp_dgt.append(1)\n",
        "            counter = counter + 1\n",
        "          if wav1.split(\"_\")[1] != wav2.split(\"_\")[1] and tmp_dgt.count(0) < 25:\n",
        "            tmp.append([wav1, wav2])\n",
        "            mfcc1 = mfcc(wav1)\n",
        "            mfcc2 = mfcc(wav2)\n",
        "            Speaker_59_1.append(mfcc1)\n",
        "            Speaker_59_2.append(mfcc2)\n",
        "            tmp_dgt.append(0)\n",
        "            Labels59.append(0)\n",
        "            counter = counter + 1\n",
        "      \n",
        "\n",
        "\n",
        "\n",
        "\n",
        "  return Speaker_04_1, Speaker_04_2, Labels04, Speaker_59_1, Speaker_59_2, Labels59\n",
        "\n"
      ],
      "execution_count": 9,
      "outputs": []
    },
    {
      "cell_type": "markdown",
      "metadata": {
        "id": "a6N6nVtu5Vmb"
      },
      "source": [
        "### Data splitting\n",
        "Calling data splitting functions in each task. Padding them in same shape and returning them as numpy arrays.  Main point of this is getting training and testing set for each task.   "
      ]
    },
    {
      "cell_type": "code",
      "metadata": {
        "id": "ARxIxtpLfmfb"
      },
      "source": [
        "all_digits = initial_datasplit()\n",
        "\n",
        "#TASK 1 Data\n",
        "X_train_1_t1, X_train_2_t1, y_train_t1, X_test_1_t1, X_test_2_t1, y_test_t1 = Get_Task1_Train_and_Test(all_digits)\n",
        "\n",
        "\n",
        "#TASK 2 Data\n",
        "X_train_1_t2, X_train_2_t2, y_train_t2, X_test_1_t2, X_test_2_t2, y_test_t2 = Get_Task2_Train_and_Test(all_digits)\n",
        "\n",
        "#TASK 3 Data\n",
        "X_train_1_t3, X_train_2_t3, y_train_t3, X_test_1_t3, X_test_2_t3, y_test_t3 = Get_Task3_Train_and_Test(all_digits)\n",
        "\n",
        "#Padding and np_arraying\n",
        "\n",
        "X_train_1_t1, X_train_2_t1, y_train_t1, X_test_1_t1, X_test_2_t1, y_test_t1, X_val_1_t1, X_val_2_t1, y_val_t1, X_train_1_t2, X_train_2_t2, y_train_t2, X_test_1_t2, X_test_2_t2, y_test_t2, X_val_1_t2, X_val_2_t2, y_val_t2, X_train_1_t3, X_train_2_t3, y_train_t3, X_test_1_t3, X_test_2_t3, y_test_t3, X_val_1_t3, X_val_2_t3, y_val_t3 = Zeropad_nparray(X_train_1_t1, X_train_2_t1, y_train_t1, X_test_1_t1, X_test_2_t1, y_test_t1, X_train_1_t2, X_train_2_t2, y_train_t2, X_test_1_t2, X_test_2_t2, y_test_t2, X_train_1_t3, X_train_2_t3,y_train_t3, X_test_1_t3, X_test_2_t3, y_test_t3)\n",
        "\n"
      ],
      "execution_count": 10,
      "outputs": []
    },
    {
      "cell_type": "markdown",
      "metadata": {
        "id": "0KQAov2D7Vfi"
      },
      "source": [
        "### Histogram of train and test data\n",
        "\n",
        "\n"
      ]
    },
    {
      "cell_type": "code",
      "metadata": {
        "colab": {
          "base_uri": "https://localhost:8080/",
          "height": 387
        },
        "id": "sJLKjUuGdX8E",
        "outputId": "138e7079-9705-493d-d3b3-157bfcfda3fb"
      },
      "source": [
        "\n",
        "plt.figure(figsize=(8, 4))\n",
        "ax = plt.subplot(1, 2, 1)\n",
        "sns.countplot(all_digits[\"train5\"], ax=ax)\n",
        "ax.set_title('Train data')\n",
        "ax = plt.subplot(1, 2, 2)\n",
        "sns.countplot(all_digits[\"test6\"], ax=ax)\n",
        "ax.set_title('Test data')\n"
      ],
      "execution_count": null,
      "outputs": [
        {
          "output_type": "stream",
          "text": [
            "/usr/local/lib/python3.6/dist-packages/seaborn/_decorators.py:43: FutureWarning: Pass the following variable as a keyword arg: x. From version 0.12, the only valid positional argument will be `data`, and passing other arguments without an explicit keyword will result in an error or misinterpretation.\n",
            "  FutureWarning\n",
            "/usr/local/lib/python3.6/dist-packages/seaborn/_decorators.py:43: FutureWarning: Pass the following variable as a keyword arg: x. From version 0.12, the only valid positional argument will be `data`, and passing other arguments without an explicit keyword will result in an error or misinterpretation.\n",
            "  FutureWarning\n"
          ],
          "name": "stderr"
        },
        {
          "output_type": "execute_result",
          "data": {
            "text/plain": [
              "Text(0.5, 1.0, 'Test data')"
            ]
          },
          "metadata": {
            "tags": []
          },
          "execution_count": 18
        },
        {
          "output_type": "display_data",
          "data": {
            "image/png": "[encoded data removed]",
            "text/plain": [
              "<Figure size 576x288 with 2 Axes>"
            ]
          },
          "metadata": {
            "tags": []
          }
        }
      ]
    },
    {
      "cell_type": "markdown",
      "metadata": {
        "id": "VzjhWZS0WkN5"
      },
      "source": [
        "## Model description\n",
        "\n",
        "Which algorithm you used for solving the task?\n",
        "\n",
        "*** Siamese neural network ***\n",
        "\n",
        "Write down technical description of the algorithm (maths and steps).\n",
        "\n",
        "* How to initialize the model?\n",
        " \n",
        " Calling function with input_shape which is the shape of one MFCC feature. After that we initialize one dimensional CNN-layer which takes one MFCC spectrogram as parameter. We add second layer to get possible more accurate results. These two CNNs are the encoder. With this encoder we encode input MFCCs so we can calculate their similarity in substraction layer. Then we create output layer which is sigmoid activation of this embedded distance. Finally we build siamise network which input layer is the encoder and output layer is sigmoided layer. \n",
        " \n",
        "\n",
        "* Which parameters are important and relevant for our dataset?\n",
        "\n",
        "  Optimizer and learning rate, activation, loss function and the amount of nodes in layers. \n",
        "\n",
        "* How we fit the model?\n",
        "\n",
        "  We give it paired list of training MFCCs and their corresponding labels (which is 0 when different speaker and 1 when same speaker). Then we set epoch and batch size. We also use early stopping callback to stop epochs if loss is starting to increase. \n",
        "\n",
        "* How do we perform prediction and evaluation with the model?\n",
        "\n",
        "  Prediction is made by giving the trained model pairs of MFCCs which we want to predict. It return score between 0 and 1 which is probability of being same speaker. Then we have some threshold which we compare the score to and if the score exceeds the threshold it is same speaker. Evaluation is made by giving the trained model pairs of mffcs and their corresponding true labels. It then predicts each pair and checks if it was correct. It returns the accuracy of all predictions.\n",
        "\n",
        "\n",
        "\n",
        "<img src=\"https://images-ext-1.discordapp.net/external/GDsdUXM5qzlWdyYW1s7yzsXWBBIAmscj4qtT1NpPlWo/https/i.gyazo.com/thumb/1200/65ae1a75653100d4c4c574ba5c6d312c-png.jpg\" size=\"500\"/>"
      ]
    },
    {
      "cell_type": "markdown",
      "metadata": {
        "id": "CElEMuK6LXLe"
      },
      "source": [
        ""
      ]
    },
    {
      "cell_type": "markdown",
      "metadata": {
        "id": "eOxs-ggI9RMV"
      },
      "source": [
        "### Initializing siamise neural network"
      ]
    },
    {
      "cell_type": "code",
      "metadata": {
        "id": "dgFntvLPW4h7"
      },
      "source": [
        "def siamese(input_shape):\n",
        "\n",
        "    encoder = Sequential()\n",
        "\n",
        "    encoder.add(layers.Conv1D(128, 9, padding='same', activation='relu', input_shape=input_shape))\n",
        "    encoder.add(layers.Conv1D(64, 7, activation='relu', padding='same'))\n",
        "    input_1 = layers.Input(input_shape)\n",
        "    input_2 = layers.Input(input_shape)\n",
        "\n",
        "    encoded_1 = encoder(input_1)\n",
        "    encoded_2 = encoder(input_2)\n",
        "\n",
        "    # This is the distance metric used in the original one-shot paper\n",
        "    embedded_distance = layers.Subtract()([encoded_1, encoded_2]) \n",
        "    embedded_distance = layers.Lambda(lambda x: K.abs(x))(embedded_distance)\n",
        "    output = layers.Dense(1, activation='sigmoid')(embedded_distance)\n",
        "\n",
        "    siamese = Model(inputs=[input_1, input_2], outputs=output)\n",
        "    siamese.summary()\n",
        "    return siamese\n",
        "\n",
        "\n"
      ],
      "execution_count": 11,
      "outputs": []
    },
    {
      "cell_type": "markdown",
      "metadata": {
        "id": "LPXvsT5c9el4"
      },
      "source": [
        "### Testing for Scenario 1"
      ]
    },
    {
      "cell_type": "code",
      "metadata": {
        "colab": {
          "base_uri": "https://localhost:8080/"
        },
        "id": "nR3hr79wo9Sa",
        "outputId": "ae46f1b1-d548-4570-92c0-cff4c063f1c1"
      },
      "source": [
        "#TASK 1\n",
        "siam = siamese(X_train_1_t1[1].shape)\n",
        "callback = callbacks.EarlyStopping(monitor='val_loss', patience=3, restore_best_weights=False)\n",
        "opt = optimizers.Adam(learning_rate=0.002)\n",
        "siam.compile(optimizer=opt, loss=\"binary_crossentropy\", metrics=[\"accuracy\"])\n",
        "\n",
        "siam.fit(x=[X_train_1_t1, X_train_2_t1], y=y_train_t1, validation_data=([X_val_1_t1, X_val_2_t1], y_val_t1), epochs=38, batch_size=50, callbacks=[callback])\n",
        "\n",
        "scores = siam.evaluate([X_test_1_t1, X_test_2_t1], y_test_t1)\n",
        "\n"
      ],
      "execution_count": 12,
      "outputs": [
        {
          "output_type": "stream",
          "text": [
            "Model: \"functional_1\"\n",
            "__________________________________________________________________________________________________\n",
            "Layer (type)                    Output Shape         Param #     Connected to                     \n",
            "==================================================================================================\n",
            "input_1 (InputLayer)            [(None, 20, 16)]     0                                            \n",
            "__________________________________________________________________________________________________\n",
            "input_2 (InputLayer)            [(None, 20, 16)]     0                                            \n",
            "__________________________________________________________________________________________________\n",
            "sequential (Sequential)         (None, 20, 64)       75968       input_1[0][0]                    \n",
            "                                                                 input_2[0][0]                    \n",
            "__________________________________________________________________________________________________\n",
            "subtract (Subtract)             (None, 20, 64)       0           sequential[0][0]                 \n",
            "                                                                 sequential[1][0]                 \n",
            "__________________________________________________________________________________________________\n",
            "lambda (Lambda)                 (None, 20, 64)       0           subtract[0][0]                   \n",
            "__________________________________________________________________________________________________\n",
            "dense (Dense)                   (None, 20, 1)        65          lambda[0][0]                     \n",
            "==================================================================================================\n",
            "Total params: 76,033\n",
            "Trainable params: 76,033\n",
            "Non-trainable params: 0\n",
            "__________________________________________________________________________________________________\n",
            "Epoch 1/38\n",
            "36/36 [==============================] - 1s 37ms/step - loss: 1.5999 - accuracy: 0.5955 - val_loss: 1.2970 - val_accuracy: 0.6150\n",
            "Epoch 2/38\n",
            "36/36 [==============================] - 1s 31ms/step - loss: 0.9549 - accuracy: 0.6785 - val_loss: 0.9629 - val_accuracy: 0.6635\n",
            "Epoch 3/38\n",
            "36/36 [==============================] - 1s 30ms/step - loss: 0.7139 - accuracy: 0.7420 - val_loss: 0.7986 - val_accuracy: 0.6980\n",
            "Epoch 4/38\n",
            "36/36 [==============================] - 1s 31ms/step - loss: 0.5455 - accuracy: 0.7857 - val_loss: 0.6453 - val_accuracy: 0.7245\n",
            "Epoch 5/38\n",
            "36/36 [==============================] - 1s 33ms/step - loss: 0.4702 - accuracy: 0.8151 - val_loss: 0.5912 - val_accuracy: 0.7435\n",
            "Epoch 6/38\n",
            "36/36 [==============================] - 1s 31ms/step - loss: 0.4112 - accuracy: 0.8413 - val_loss: 0.5645 - val_accuracy: 0.7532\n",
            "Epoch 7/38\n",
            "36/36 [==============================] - 1s 32ms/step - loss: 0.3585 - accuracy: 0.8654 - val_loss: 0.5381 - val_accuracy: 0.7757\n",
            "Epoch 8/38\n",
            "36/36 [==============================] - 1s 32ms/step - loss: 0.3250 - accuracy: 0.8824 - val_loss: 0.5255 - val_accuracy: 0.7822\n",
            "Epoch 9/38\n",
            "36/36 [==============================] - 1s 32ms/step - loss: 0.2779 - accuracy: 0.8996 - val_loss: 0.5145 - val_accuracy: 0.7922\n",
            "Epoch 10/38\n",
            "36/36 [==============================] - 1s 32ms/step - loss: 0.2525 - accuracy: 0.9099 - val_loss: 0.4884 - val_accuracy: 0.8052\n",
            "Epoch 11/38\n",
            "36/36 [==============================] - 1s 32ms/step - loss: 0.2299 - accuracy: 0.9208 - val_loss: 0.5112 - val_accuracy: 0.8057\n",
            "Epoch 12/38\n",
            "36/36 [==============================] - 1s 33ms/step - loss: 0.2121 - accuracy: 0.9292 - val_loss: 0.5429 - val_accuracy: 0.8020\n",
            "Epoch 13/38\n",
            "36/36 [==============================] - 1s 32ms/step - loss: 0.1969 - accuracy: 0.9342 - val_loss: 0.5065 - val_accuracy: 0.8135\n",
            "8/8 [==============================] - 0s 6ms/step - loss: 0.8341 - accuracy: 0.7300\n"
          ],
          "name": "stdout"
        }
      ]
    },
    {
      "cell_type": "markdown",
      "metadata": {
        "id": "30nX4LP39lta"
      },
      "source": [
        "### Testing for Scenario 2"
      ]
    },
    {
      "cell_type": "code",
      "metadata": {
        "colab": {
          "base_uri": "https://localhost:8080/"
        },
        "id": "BaiJaghehC9-",
        "outputId": "d825fb1d-1fe8-4b8d-cb9a-76a725fff9d5"
      },
      "source": [
        "#TASK 2 Tests\n",
        "siam2 = siamese(X_train_1_t2[1].shape)\n",
        "\n",
        "opt = optimizers.Adam(learning_rate=0.002)\n",
        "\n",
        "callback = callbacks.EarlyStopping(monitor='val_loss', patience=3, restore_best_weights=False)\n",
        "\n",
        "siam2.compile(optimizer=opt, loss=\"binary_crossentropy\", metrics=[\"accuracy\"])\n",
        "\n",
        "siam2.fit(x=[X_train_1_t2, X_train_2_t2], y=y_train_t2, epochs=20, validation_data=([X_val_1_t2, X_val_2_t2], y_val_t2), batch_size=64, callbacks=[callback])\n",
        "\n",
        "scores = siam2.evaluate([X_test_1_t2, X_test_2_t2], y_test_t2)\n",
        "\n",
        "print(\"Accuracy: \", scores[1])\n",
        "\n"
      ],
      "execution_count": 13,
      "outputs": [
        {
          "output_type": "stream",
          "text": [
            "Model: \"functional_3\"\n",
            "__________________________________________________________________________________________________\n",
            "Layer (type)                    Output Shape         Param #     Connected to                     \n",
            "==================================================================================================\n",
            "input_3 (InputLayer)            [(None, 20, 16)]     0                                            \n",
            "__________________________________________________________________________________________________\n",
            "input_4 (InputLayer)            [(None, 20, 16)]     0                                            \n",
            "__________________________________________________________________________________________________\n",
            "sequential_1 (Sequential)       (None, 20, 64)       75968       input_3[0][0]                    \n",
            "                                                                 input_4[0][0]                    \n",
            "__________________________________________________________________________________________________\n",
            "subtract_1 (Subtract)           (None, 20, 64)       0           sequential_1[0][0]               \n",
            "                                                                 sequential_1[1][0]               \n",
            "__________________________________________________________________________________________________\n",
            "lambda_1 (Lambda)               (None, 20, 64)       0           subtract_1[0][0]                 \n",
            "__________________________________________________________________________________________________\n",
            "dense_1 (Dense)                 (None, 20, 1)        65          lambda_1[0][0]                   \n",
            "==================================================================================================\n",
            "Total params: 76,033\n",
            "Trainable params: 76,033\n",
            "Non-trainable params: 0\n",
            "__________________________________________________________________________________________________\n",
            "Epoch 1/20\n",
            "44/44 [==============================] - 2s 42ms/step - loss: 2.1365 - accuracy: 0.5275 - val_loss: 1.3445 - val_accuracy: 0.5625\n",
            "Epoch 2/20\n",
            "44/44 [==============================] - 2s 38ms/step - loss: 1.0666 - accuracy: 0.5892 - val_loss: 0.8866 - val_accuracy: 0.5950\n",
            "Epoch 3/20\n",
            "44/44 [==============================] - 2s 38ms/step - loss: 0.7695 - accuracy: 0.6297 - val_loss: 0.7378 - val_accuracy: 0.6210\n",
            "Epoch 4/20\n",
            "44/44 [==============================] - 2s 37ms/step - loss: 0.6637 - accuracy: 0.6668 - val_loss: 0.6908 - val_accuracy: 0.6460\n",
            "Epoch 5/20\n",
            "44/44 [==============================] - 2s 37ms/step - loss: 0.5859 - accuracy: 0.7014 - val_loss: 0.6690 - val_accuracy: 0.6618\n",
            "Epoch 6/20\n",
            "44/44 [==============================] - 2s 37ms/step - loss: 0.5492 - accuracy: 0.7258 - val_loss: 0.6402 - val_accuracy: 0.6712\n",
            "Epoch 7/20\n",
            "44/44 [==============================] - 2s 37ms/step - loss: 0.5125 - accuracy: 0.7497 - val_loss: 0.6235 - val_accuracy: 0.6960\n",
            "Epoch 8/20\n",
            "44/44 [==============================] - 2s 37ms/step - loss: 0.4850 - accuracy: 0.7663 - val_loss: 0.6126 - val_accuracy: 0.6967\n",
            "Epoch 9/20\n",
            "44/44 [==============================] - 2s 37ms/step - loss: 0.4627 - accuracy: 0.7813 - val_loss: 0.6356 - val_accuracy: 0.6800\n",
            "Epoch 10/20\n",
            "44/44 [==============================] - 2s 38ms/step - loss: 0.4461 - accuracy: 0.7916 - val_loss: 0.6074 - val_accuracy: 0.7173\n",
            "Epoch 11/20\n",
            "44/44 [==============================] - 2s 37ms/step - loss: 0.4217 - accuracy: 0.8050 - val_loss: 0.6023 - val_accuracy: 0.7228\n",
            "Epoch 12/20\n",
            "44/44 [==============================] - 2s 37ms/step - loss: 0.4030 - accuracy: 0.8144 - val_loss: 0.6116 - val_accuracy: 0.7102\n",
            "Epoch 13/20\n",
            "44/44 [==============================] - 2s 36ms/step - loss: 0.3900 - accuracy: 0.8234 - val_loss: 0.5944 - val_accuracy: 0.7290\n",
            "Epoch 14/20\n",
            "44/44 [==============================] - 2s 36ms/step - loss: 0.3692 - accuracy: 0.8345 - val_loss: 0.6513 - val_accuracy: 0.7103\n",
            "Epoch 15/20\n",
            "44/44 [==============================] - 2s 37ms/step - loss: 0.3638 - accuracy: 0.8377 - val_loss: 0.6290 - val_accuracy: 0.7117\n",
            "Epoch 16/20\n",
            "44/44 [==============================] - 2s 37ms/step - loss: 0.3514 - accuracy: 0.8459 - val_loss: 0.6688 - val_accuracy: 0.7245\n",
            "7/7 [==============================] - 0s 6ms/step - loss: 0.8405 - accuracy: 0.6587\n",
            "Accuracy:  0.6587499976158142\n"
          ],
          "name": "stdout"
        }
      ]
    },
    {
      "cell_type": "markdown",
      "metadata": {
        "id": "h02XRF2c9rE4"
      },
      "source": [
        "### Testing for Scenario 3"
      ]
    },
    {
      "cell_type": "code",
      "metadata": {
        "colab": {
          "base_uri": "https://localhost:8080/"
        },
        "id": "aT8Ibil9alRM",
        "outputId": "36f604db-6e15-48e1-cf5d-62dce52f0f82"
      },
      "source": [
        "#TASK 3 \n",
        "\n",
        "siam3 = siamese(X_train_1_t3[1].shape)\n",
        "opt = optimizers.Adam(learning_rate=0.002)\n",
        "callback = callbacks.EarlyStopping(monitor='val_loss', patience=3, restore_best_weights=False)\n",
        "siam3.compile(optimizer=opt, loss=\"binary_crossentropy\", metrics=[\"accuracy\"])\n",
        "\n",
        "siam3.fit(x=[X_train_1_t3, X_train_2_t3], y=y_train_t3, validation_data=([X_val_1_t3, X_val_2_t3], y_val_t3), epochs=20, batch_size=64, callbacks=[callback])\n",
        "\n",
        "scores = siam3.evaluate([X_test_1_t3, X_test_2_t3], y_test_t3)\n",
        "preds = siam3.predict([X_test_1_t3, X_test_2_t3])\n",
        "print(\"Accuracy: \", scores[1])\n"
      ],
      "execution_count": 14,
      "outputs": [
        {
          "output_type": "stream",
          "text": [
            "Model: \"functional_5\"\n",
            "__________________________________________________________________________________________________\n",
            "Layer (type)                    Output Shape         Param #     Connected to                     \n",
            "==================================================================================================\n",
            "input_5 (InputLayer)            [(None, 20, 16)]     0                                            \n",
            "__________________________________________________________________________________________________\n",
            "input_6 (InputLayer)            [(None, 20, 16)]     0                                            \n",
            "__________________________________________________________________________________________________\n",
            "sequential_2 (Sequential)       (None, 20, 64)       75968       input_5[0][0]                    \n",
            "                                                                 input_6[0][0]                    \n",
            "__________________________________________________________________________________________________\n",
            "subtract_2 (Subtract)           (None, 20, 64)       0           sequential_2[0][0]               \n",
            "                                                                 sequential_2[1][0]               \n",
            "__________________________________________________________________________________________________\n",
            "lambda_2 (Lambda)               (None, 20, 64)       0           subtract_2[0][0]                 \n",
            "__________________________________________________________________________________________________\n",
            "dense_2 (Dense)                 (None, 20, 1)        65          lambda_2[0][0]                   \n",
            "==================================================================================================\n",
            "Total params: 76,033\n",
            "Trainable params: 76,033\n",
            "Non-trainable params: 0\n",
            "__________________________________________________________________________________________________\n",
            "Epoch 1/20\n",
            "36/36 [==============================] - 1s 41ms/step - loss: 1.7794 - accuracy: 0.5346 - val_loss: 1.1730 - val_accuracy: 0.5587\n",
            "Epoch 2/20\n",
            "36/36 [==============================] - 1s 36ms/step - loss: 0.9473 - accuracy: 0.5975 - val_loss: 0.8335 - val_accuracy: 0.5950\n",
            "Epoch 3/20\n",
            "36/36 [==============================] - 1s 37ms/step - loss: 0.7535 - accuracy: 0.6341 - val_loss: 0.7207 - val_accuracy: 0.6272\n",
            "Epoch 4/20\n",
            "36/36 [==============================] - 1s 37ms/step - loss: 0.6605 - accuracy: 0.6739 - val_loss: 0.6907 - val_accuracy: 0.6440\n",
            "Epoch 5/20\n",
            "36/36 [==============================] - 1s 37ms/step - loss: 0.6081 - accuracy: 0.6982 - val_loss: 0.6746 - val_accuracy: 0.6445\n",
            "Epoch 6/20\n",
            "36/36 [==============================] - 1s 37ms/step - loss: 0.5694 - accuracy: 0.7209 - val_loss: 0.6537 - val_accuracy: 0.6582\n",
            "Epoch 7/20\n",
            "36/36 [==============================] - 1s 36ms/step - loss: 0.5391 - accuracy: 0.7407 - val_loss: 0.6464 - val_accuracy: 0.6705\n",
            "Epoch 8/20\n",
            "36/36 [==============================] - 1s 37ms/step - loss: 0.5264 - accuracy: 0.7517 - val_loss: 0.6349 - val_accuracy: 0.6743\n",
            "Epoch 9/20\n",
            "36/36 [==============================] - 1s 38ms/step - loss: 0.4977 - accuracy: 0.7655 - val_loss: 0.6336 - val_accuracy: 0.6718\n",
            "Epoch 10/20\n",
            "36/36 [==============================] - 1s 37ms/step - loss: 0.4694 - accuracy: 0.7819 - val_loss: 0.6360 - val_accuracy: 0.6787\n",
            "Epoch 11/20\n",
            "36/36 [==============================] - 1s 37ms/step - loss: 0.4515 - accuracy: 0.7943 - val_loss: 0.6427 - val_accuracy: 0.6770\n",
            "Epoch 12/20\n",
            "36/36 [==============================] - 1s 37ms/step - loss: 0.4527 - accuracy: 0.7948 - val_loss: 0.6690 - val_accuracy: 0.6872\n",
            "16/16 [==============================] - 0s 6ms/step - loss: 0.8846 - accuracy: 0.6309\n",
            "Accuracy:  0.6309000253677368\n"
          ],
          "name": "stdout"
        }
      ]
    },
    {
      "cell_type": "markdown",
      "metadata": {
        "id": "INvw_szBW6Vj"
      },
      "source": [
        "# Experiments and results\n",
        "\n",
        "Describe your experiments setup\n",
        "\n",
        "* which metrics are used for evaluation?\n",
        "\n",
        "  Det-Curve\n",
        "\n",
        "* How do you run the experiments?\n",
        "\n",
        "   We calculate the false positive rates and false negative rates and plot them as DET\n",
        "\n",
        "  \n",
        "\n"
      ]
    },
    {
      "cell_type": "markdown",
      "metadata": {
        "id": "n38juKNRq6S_"
      },
      "source": [
        "###  Getting test data\r\n",
        "\r\n",
        "Code where we get the actual Test data. Our initial test data contains way more data than was supposed to be for testing."
      ]
    },
    {
      "cell_type": "code",
      "metadata": {
        "id": "H8Il6jktiSTF"
      },
      "source": [
        "from sklearn.metrics import det_curve\n",
        "#Task1\n",
        "idx_list_same=[]\n",
        "idx_list_dif=[]\n",
        "for idx in range(len(y_test_t1)-1):\n",
        "  if y_test_t1[idx] == 1:\n",
        "    idx_list_same.append(idx)\n",
        "  else:\n",
        "    idx_list_dif.append(idx)\n",
        "Test_task1_X = []\n",
        "Test_task1_X2 = []\n",
        "Test_task1_Y = []\n",
        "for i in range(10):\n",
        "  Test_task1_X.append(X_test_1_t1[idx_list_same[i]])\n",
        "  Test_task1_X2.append(X_test_2_t1[idx_list_same[i]])\n",
        "  Test_task1_Y.append(y_test_t1[idx_list_same[i]])\n",
        "for j in range(50):\n",
        "  Test_task1_X.append(X_test_1_t1[idx_list_dif[j]])\n",
        "  Test_task1_X2.append(X_test_2_t1[idx_list_dif[j]])\n",
        "  Test_task1_Y.append(y_test_t1[idx_list_dif[j]])\n",
        "preds = siam.predict([np.array(Test_task1_X), np.array(Test_task1_X2)])\n",
        "predictions=[]\n",
        "for pred in preds:\n",
        "  predictions.append(np.mean(pred))\n",
        "\n",
        "#Task2\n",
        "idx_list_same=[]\n",
        "idx_list_dif=[]\n",
        "for idx in range(len(y_test_t2)-1):\n",
        "  if y_test_t2[idx] == 1:\n",
        "    idx_list_same.append(idx)\n",
        "  else:\n",
        "    idx_list_dif.append(idx)\n",
        "Test_task2_X = []\n",
        "Test_task2_X2 = []\n",
        "Test_task2_Y = []\n",
        "for i in range(10):\n",
        "  Test_task2_X.append(X_test_1_t2[idx_list_same[i]])\n",
        "  Test_task2_X2.append(X_test_2_t2[idx_list_same[i]])\n",
        "  Test_task2_Y.append(y_test_t2[idx_list_same[i]])\n",
        "for j in range(50):\n",
        "  Test_task2_X.append(X_test_1_t2[idx_list_dif[j]])\n",
        "  Test_task2_X2.append(X_test_2_t2[idx_list_dif[j]])\n",
        "  Test_task2_Y.append(y_test_t2[idx_list_dif[j]])\n",
        "\n",
        "preds = siam2.predict([np.array(Test_task2_X), np.array(Test_task2_X2)])\n",
        "predictions2=[]\n",
        "for pred in preds:\n",
        "  predictions2.append(np.mean(pred))\n",
        "\n",
        "\n",
        "#Task3\n",
        "idx_list_same=[]\n",
        "idx_list_dif=[]\n",
        "for idx in range(len(y_test_t3)-1):\n",
        "  if y_test_t3[idx] == 1:\n",
        "    idx_list_same.append(idx)\n",
        "  else:\n",
        "    idx_list_dif.append(idx)\n",
        "Test_task3_X = []\n",
        "Test_task3_X2 = []\n",
        "Test_task3_Y = []\n",
        "for i in range(10):\n",
        "  Test_task3_X.append(X_test_1_t3[idx_list_same[i]])\n",
        "  Test_task3_X2.append(X_test_2_t3[idx_list_same[i]])\n",
        "  Test_task3_Y.append(y_test_t3[idx_list_same[i]])\n",
        "for j in range(50):\n",
        "  Test_task3_X.append(X_test_1_t3[idx_list_dif[j]])\n",
        "  Test_task3_X2.append(X_test_2_t3[idx_list_dif[j]])\n",
        "  Test_task3_Y.append(y_test_t3[idx_list_dif[j]])\n",
        "\n",
        "\n",
        "preds = siam3.predict([np.array(Test_task3_X), np.array(Test_task3_X2)])\n",
        "\n",
        "\n",
        "predictions3=[]\n",
        "for pred in preds:\n",
        "  predictions3.append(np.mean(pred))\n",
        "\n",
        "\n"
      ],
      "execution_count": 15,
      "outputs": []
    },
    {
      "cell_type": "markdown",
      "metadata": {
        "id": "iah1q7uGXLE8"
      },
      "source": [
        "## Results and diccussion\n",
        "\n",
        "**When false negative rate decreases false positive rate increases in our model's predictions. In first task we have 'the best' DET-curve, which is related to its overall superior accuracy. In the 2nd and 3rd task our scores are not so good. We have either pretty high FPR or FNR. This means that our model makes wrong predictions, by classifying same speakers as different or different speakers as the same.**"
      ]
    },
    {
      "cell_type": "code",
      "metadata": {
        "id": "M41VMMgeXRSL",
        "colab": {
          "base_uri": "https://localhost:8080/",
          "height": 851
        },
        "outputId": "6738b305-a0d2-478c-d274-4a5cbfe810be"
      },
      "source": [
        "from sklearn import metrics\n",
        "from sklearn.metrics import confusion_matrix\n",
        "import matplotlib.pyplot as plt\n",
        "\n",
        "fpr_t1, fnr_t1, thresholds_t1 = det_curve(Test_task1_Y, predictions)\n",
        "\n",
        "fpr_t2, fnr_t2, thresholds_t2 = det_curve(Test_task2_Y, predictions2)\n",
        "\n",
        "fpr_t3, fnr_t3, thresholds_t3 = det_curve(Test_task3_Y, predictions3)\n",
        "\n",
        "display = metrics.DetCurveDisplay(fpr=fpr_t1, fnr=fnr_t1, estimator_name='Siamese Neural Network')\n",
        "\n",
        "display2 = metrics.DetCurveDisplay(fpr=fpr_t2, fnr=fnr_t2, estimator_name='Siamese Neural Network')\n",
        "\n",
        "display3 = metrics.DetCurveDisplay(fpr=fpr_t3, fnr=fnr_t3, estimator_name='Siamese Neural Network')\n",
        "\n",
        "display.plot() \n",
        "plt.title(\"DET-Curve of Task 1\")\n",
        "plt.grid()\n",
        "display2.plot() \n",
        "plt.title(\"DET-Curve of Task 2\")\n",
        "plt.grid()\n",
        "display3.plot() \n",
        "plt.title(\"DET-Curve of Task 3\")\n",
        "plt.grid()\n",
        "\n",
        "plt.show()\n",
        "\n"
      ],
      "execution_count": 16,
      "outputs": [
        {
          "output_type": "display_data",
          "data": {
            "image/png": "[encoded data removed]",
            "text/plain": [
              "<Figure size 432x288 with 1 Axes>"
            ]
          },
          "metadata": {
            "tags": [],
            "needs_background": "light"
          }
        },
        {
          "output_type": "display_data",
          "data": {
            "image/png": "[encoded data removed]",
            "text/plain": [
              "<Figure size 432x288 with 1 Axes>"
            ]
          },
          "metadata": {
            "tags": [],
            "needs_background": "light"
          }
        },
        {
          "output_type": "display_data",
          "data": {
            "image/png": "[encoded data removed]",
            "text/plain": [
              "<Figure size 432x288 with 1 Axes>"
            ]
          },
          "metadata": {
            "tags": [],
            "needs_background": "light"
          }
        }
      ]
    },
    {
      "cell_type": "markdown",
      "metadata": {
        "id": "k86QEB1yjsh5"
      },
      "source": [
        "## Conclusion\r\n",
        "In conclusion, our siamese model is making decent predictions and performing overall good. We could get much better performance by using larger training sets and performing more professional hyperparameter tuning. These current hyperparameters are based on our small tests, so they propably are not the exact optimal ones. Also we are not sure about data distribution. For example we manually take same amount of same and different speakers, but it has much more questions. Now we use randomization but randomization means that its possible of ending up with large amounts of specific numbers and small amount of other specific numbers since we only track speakers. "
      ]
    }
  ]
}